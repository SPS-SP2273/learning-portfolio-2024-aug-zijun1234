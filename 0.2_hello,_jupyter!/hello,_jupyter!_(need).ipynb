{
 "cells": [
  {
   "attachments": {},
   "cell_type": "markdown",
   "id": "123456",
   "metadata": {},
   "source": [
    "<div style=\"text-align:left;font-size:2em\"><span style=\"font-weight:bolder;font-size:1.25em\">SP2273 | Learning Portfolio</span><br><br><span style=\"font-weight:bold;color:darkred\">Hello, Jupyter! (Need)</span></div>"
   ]
  },
  {
   "cell_type": "markdown",
   "id": "277a7ad3-c87b-40a0-8daa-50a5519e1f60",
   "metadata": {},
   "source": [
    "$$ax^2+bx+c=0$$\n",
    "$$x=\\dfrac{-b\\pm\\sqrt{b^2-4ac}}{2a}$$\n",
    "|Discriminant|Roots|\n",
    "|:------------------|--------------------------------:|\n",
    "|$\\Delta =b^2-4ac=0$|A single solution of $(-b)/(2a)$|\n",
    "|$\\Delta =b^2-4ac>0$|Two distinct solutions|\n",
    "|$\\Delta =b^2-4ac<0$|No real solutions,both are complex|\n",
    "\n",
    "\n"
   ]
  },
  {
   "cell_type": "markdown",
   "id": "a569d9d6-8cfb-43a2-bd0e-cda3ec73ae47",
   "metadata": {},
   "source": [
    "1. git repository is an online space to store file.\n",
    "2. changes\n",
    "3. to save the current version of a project\n",
    "4. to upload\n",
    "5. to download\n",
    "6. github is a website for people to browse repositories,and github dektop is an application for people to upload local files and download from github."
   ]
  },
  {
   "cell_type": "markdown",
   "id": "3e536e1c-d9b1-417d-b788-832df190ce44",
   "metadata": {},
   "source": [
    "$$\\mu = \\dfrac{1}{n} \\sum_{i=1}^{n} x_i$$\n",
    "$$\\sigma = \\sqrt{\\dfrac{1}{n} \\sum_{i=1}^{n} (x_i-\\mu)^2}$$\n",
    "$$r = \\dfrac{\\sum_{i=1}^{n} (x_i- \\mu X)(y_i -\\mu Y)}{\\sqrt{\\sum_{i=1}^{n} (x_i - \\mu X)^2 \\sum_{i=1}^{n} (y_i - \\mu Y)^2}}$$"
   ]
  },
  {
   "cell_type": "code",
   "execution_count": null,
   "id": "e669f59f-cc4e-4cf3-ab4e-a5110dbf17cf",
   "metadata": {},
   "outputs": [],
   "source": []
  },
  {
   "attachments": {},
   "cell_type": "markdown",
   "id": "c68cfc22",
   "metadata": {},
   "source": [
    "# 1 Jupyter, who?"
   ]
  },
  {
   "attachments": {},
   "cell_type": "markdown",
   "id": "33b3f539",
   "metadata": {},
   "source": [
    "# 2 Anaconda & Miniconda"
   ]
  },
  {
   "attachments": {},
   "cell_type": "markdown",
   "id": "3fa22f58",
   "metadata": {},
   "source": [
    "## 2.1 Download & install Miniconda"
   ]
  },
  {
   "attachments": {},
   "cell_type": "markdown",
   "id": "8ab18bd9",
   "metadata": {},
   "source": [
    "# 3 Hello Command prompt"
   ]
  },
  {
   "attachments": {},
   "cell_type": "markdown",
   "id": "1c79d78b",
   "metadata": {},
   "source": [
    "## 3.1 What is the command prompt"
   ]
  },
  {
   "attachments": {},
   "cell_type": "markdown",
   "id": "26096dc0",
   "metadata": {},
   "source": [
    "## 3.2 Opening the prompt"
   ]
  },
  {
   "attachments": {},
   "cell_type": "markdown",
   "id": "13f851ee",
   "metadata": {},
   "source": [
    "## 3.3 Navigate using the prompt"
   ]
  },
  {
   "attachments": {},
   "cell_type": "markdown",
   "id": "eb0be979",
   "metadata": {},
   "source": [
    "## 3.4 Using the prompt with conda"
   ]
  },
  {
   "attachments": {},
   "cell_type": "markdown",
   "id": "ff4156a1",
   "metadata": {},
   "source": [
    "# 4 Installing Jupyter and other stuff"
   ]
  },
  {
   "attachments": {},
   "cell_type": "markdown",
   "id": "a8187f54",
   "metadata": {},
   "source": [
    "## 4.1 Jupyter… the first run"
   ]
  },
  {
   "cell_type": "markdown",
   "id": "a1fa1946-90b2-437a-8161-3ed88b175636",
   "metadata": {},
   "source": [
    "## Footnotes"
   ]
  }
 ],
 "metadata": {
  "kernelspec": {
   "display_name": "Python 3 (ipykernel)",
   "language": "python",
   "name": "python3"
  },
  "language_info": {
   "codemirror_mode": {
    "name": "ipython",
    "version": 3
   },
   "file_extension": ".py",
   "mimetype": "text/x-python",
   "name": "python",
   "nbconvert_exporter": "python",
   "pygments_lexer": "ipython3",
   "version": "3.12.2"
  },
  "toc": {
   "base_numbering": 1,
   "nav_menu": {},
   "number_sections": true,
   "sideBar": true,
   "skip_h1_title": false,
   "title_cell": "Table of Contents",
   "title_sidebar": "Contents",
   "toc_cell": false,
   "toc_position": {},
   "toc_section_display": true,
   "toc_window_display": false
  },
  "vscode": {
   "interpreter": {
    "hash": "31f2aee4e71d21fbe5cf8b01ff0e069b9275f58929596ceb00d14d90e3e16cd6"
   }
  }
 },
 "nbformat": 4,
 "nbformat_minor": 5
}
