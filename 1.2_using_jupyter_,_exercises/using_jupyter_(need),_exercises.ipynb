{
 "cells": [
  {
   "attachments": {},
   "cell_type": "markdown",
   "id": "123456",
   "metadata": {},
   "source": [
    "<div style=\"text-align:left;font-size:2em\"><span style=\"font-weight:bolder;font-size:1.25em\">SP2273 | Learning Portfolio</span><br><br><span style=\"font-weight:bold;color:darkred\">Using Jupyter (Need), Exercises</span></div>"
   ]
  },
  {
   "attachments": {},
   "cell_type": "markdown",
   "id": "f452f862",
   "metadata": {},
   "source": [
    "## 1 Quadratic Equations"
   ]
  },
  {
   "attachments": {},
   "cell_type": "markdown",
   "id": "e056308f",
   "metadata": {},
   "source": [
    "### Introduction"
   ]
  },
  {
   "cell_type": "markdown",
   "id": "0fa01b95-9bed-4111-9558-95f69cee30bc",
   "metadata": {},
   "source": [
    "![](https://upload.wikimedia.org/wikipedia/commons/f/f8/Polynomialdeg2.svg)\n",
    "\n",
    "The general form of a quadratic equation is:\n",
    "\n",
    "\n",
    "\n",
    "$$ax^2+bx+c=0$$\n",
    "## Solutions\n",
    "Provided $a \\ne 0$, we can use an elementary algebraic method called [completing the square](https://en.wikipedia.org/wiki/Completing_the_square) to show that a quadratic equation has the following solution:\n",
    "$$x=\\dfrac{-b\\pm\\sqrt{b^2-4ac}}{2a}$$\n",
    "## Discriminant\n",
    "The quantity $\\Delta =b^2-4ac$ is called the ##discriminant## of the equation and decides the nature of its solutions. The table below shows the various possibilities.\n",
    "|**Discriminant**|**Roots**|\n",
    "|:------------------|--------------------------------:|\n",
    "|$\\Delta =b^2-4ac=0$|A single solution of $(-b)/(2a)$|\n",
    "|$\\Delta =b^2-4ac>0$|Two distinct solutions|\n",
    "|$\\Delta =b^2-4ac<0$|No real solutions,both are complex|\n"
   ]
  },
  {
   "attachments": {},
   "cell_type": "markdown",
   "id": "b94ae585",
   "metadata": {},
   "source": [
    "### Solutions"
   ]
  },
  {
   "cell_type": "markdown",
   "id": "fcfad5b8-c047-4007-bdd3-b49065c90d38",
   "metadata": {},
   "source": [
    "\n",
    "1. git repository is an online space to store file.\n",
    "2. changes\n",
    "3. to save the current version of a project\n",
    "4. to upload\n",
    "5. to download\n",
    "6. github is a website for people to browse repositories,and github dektop is an application for people to upload local files and download from github."
   ]
  },
  {
   "attachments": {},
   "cell_type": "markdown",
   "id": "d9d38c22",
   "metadata": {},
   "source": [
    "### Discriminant"
   ]
  },
  {
   "cell_type": "markdown",
   "id": "edf43e8b-ce10-4306-a25e-a5d1bec2bc04",
   "metadata": {},
   "source": [
    "$$\\mu = \\dfrac{1}{n} \\sum_{i=1}^{n} x_i$$\n",
    "$$\\sigma = \\sqrt{\\dfrac{1}{n} \\sum_{i=1}^{n} (x_i-\\mu)^2}$$\n",
    "$$r = \\dfrac{\\sum_{i=1}^{n} (x_i- \\mu X)(y_i -\\mu Y)}{\\sqrt{\\sum_{i=1}^{n} (x_i - \\mu X)^2 \\sum_{i=1}^{n} (y_i - \\mu Y)^2}}$$\n"
   ]
  },
  {
   "cell_type": "markdown",
   "id": "1a6e2d8c-231d-4805-944b-cb2b92167470",
   "metadata": {},
   "source": []
  },
  {
   "cell_type": "code",
   "execution_count": null,
   "id": "bda3ce42-afeb-4bc1-924a-8a56d033a95e",
   "metadata": {},
   "outputs": [],
   "source": []
  }
 ],
 "metadata": {
  "kernelspec": {
   "display_name": "Python 3 (ipykernel)",
   "language": "python",
   "name": "python3"
  },
  "language_info": {
   "codemirror_mode": {
    "name": "ipython",
    "version": 3
   },
   "file_extension": ".py",
   "mimetype": "text/x-python",
   "name": "python",
   "nbconvert_exporter": "python",
   "pygments_lexer": "ipython3",
   "version": "3.12.2"
  },
  "toc": {
   "base_numbering": 1,
   "nav_menu": {},
   "number_sections": true,
   "sideBar": true,
   "skip_h1_title": false,
   "title_cell": "Table of Contents",
   "title_sidebar": "Contents",
   "toc_cell": false,
   "toc_position": {},
   "toc_section_display": true,
   "toc_window_display": false
  },
  "vscode": {
   "interpreter": {
    "hash": "31f2aee4e71d21fbe5cf8b01ff0e069b9275f58929596ceb00d14d90e3e16cd6"
   }
  }
 },
 "nbformat": 4,
 "nbformat_minor": 5
}
