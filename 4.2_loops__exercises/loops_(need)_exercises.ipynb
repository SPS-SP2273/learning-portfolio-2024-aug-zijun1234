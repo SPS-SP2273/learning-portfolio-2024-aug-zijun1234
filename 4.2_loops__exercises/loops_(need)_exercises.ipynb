{
 "cells": [
  {
   "attachments": {},
   "cell_type": "markdown",
   "id": "123456",
   "metadata": {},
   "source": [
    "<div style=\"text-align:left;font-size:2em\"><span style=\"font-weight:bolder;font-size:1.25em\">SP2273 | Learning Portfolio</span><br><br><span style=\"font-weight:bold;color:darkred\">Loops (Need) Exercises</span></div>"
   ]
  },
  {
   "cell_type": "code",
   "execution_count": 29,
   "id": "4ca0fcf5-927c-41b8-a314-3fea1c4a171e",
   "metadata": {},
   "outputs": [
    {
     "name": "stdout",
     "output_type": "stream",
     "text": [
      "[0,32.0]\n",
      "[5,41.0]\n",
      "[10,50.0]\n",
      "[15,59.0]\n",
      "[20,68.0]\n",
      "[25,77.0]\n",
      "[30,86.0]\n",
      "[35,95.0]\n",
      "[40,104.0]\n",
      "[45,113.0]\n",
      "[50,122.0]\n"
     ]
    }
   ],
   "source": [
    "temperatures_celsius = [\n",
    "    0, 5, 10, 15, 20, 25,\n",
    "    30, 35, 40, 45, 50]\n",
    "temperatures_fahrenheit=[]\n",
    "for i in temperatures_celsius:\n",
    "    i/=5\n",
    "    i*=9\n",
    "    i+=32\n",
    "    temperatures_fahrenheit.append(i)\n",
    "for index, name in enumerate(temperatures_celsius):\n",
    "    tf=temperatures_fahrenheit[index]\n",
    "    print(f'[{name},{tf}]')"
   ]
  },
  {
   "cell_type": "code",
   "execution_count": 44,
   "id": "deb75584-c623-4fd7-a6d6-d36245aaf987",
   "metadata": {},
   "outputs": [
    {
     "name": "stdout",
     "output_type": "stream",
     "text": [
      "1 : 1   2   3   4   5   \n",
      "\n",
      "2 : 2   4   6   8   10  \n",
      "\n",
      "3 : 3   6   9   12  15  \n",
      "\n",
      "4 : 4   8   12  16  20  \n",
      "\n",
      "5 : 5   10  15  20  25  \n",
      "\n"
     ]
    }
   ],
   "source": [
    "import numpy as np\n",
    "for x in range(1,6):\n",
    "    print(f'{x}',end=' : ')\n",
    "    for y in range(1,6):\n",
    "        z=x*y\n",
    "        print(f'{z:<4}',end='')\n",
    "    print('\\n') "
   ]
  },
  {
   "cell_type": "code",
   "execution_count": 34,
   "id": "4f7feba3-beb0-4527-9dd8-79f4a362b081",
   "metadata": {},
   "outputs": [
    {
     "name": "stdout",
     "output_type": "stream",
     "text": [
      "Experiment  1: No. of Heads =8\n",
      "Experiment  2: No. of Heads =7\n",
      "Experiment  3: No. of Heads =2\n",
      "Experiment  4: No. of Heads =4\n",
      "Experiment  5: No. of Heads =6\n",
      "Experiment  6: No. of Heads =7\n",
      "Experiment  7: No. of Heads =4\n",
      "Experiment  8: No. of Heads =5\n",
      "Experiment  9: No. of Heads =5\n",
      "Experiment  10: No. of Heads =4\n"
     ]
    }
   ],
   "source": [
    "import numpy as np\n",
    "for i in range (1,11):\n",
    "    x=np.random.rand(10)\n",
    "    y=x>0.5\n",
    "    z=y.sum()\n",
    "    print(f'Experiment  {i}: No. of Heads ={z}')\n",
    "    \n",
    "    \n",
    "    "
   ]
  }
 ],
 "metadata": {
  "kernelspec": {
   "display_name": "Python 3 (ipykernel)",
   "language": "python",
   "name": "python3"
  },
  "language_info": {
   "codemirror_mode": {
    "name": "ipython",
    "version": 3
   },
   "file_extension": ".py",
   "mimetype": "text/x-python",
   "name": "python",
   "nbconvert_exporter": "python",
   "pygments_lexer": "ipython3",
   "version": "3.12.2"
  },
  "toc": {
   "base_numbering": 1,
   "nav_menu": {},
   "number_sections": true,
   "sideBar": true,
   "skip_h1_title": false,
   "title_cell": "Table of Contents",
   "title_sidebar": "Contents",
   "toc_cell": false,
   "toc_position": {},
   "toc_section_display": true,
   "toc_window_display": false
  },
  "vscode": {
   "interpreter": {
    "hash": "31f2aee4e71d21fbe5cf8b01ff0e069b9275f58929596ceb00d14d90e3e16cd6"
   }
  }
 },
 "nbformat": 4,
 "nbformat_minor": 5
}
