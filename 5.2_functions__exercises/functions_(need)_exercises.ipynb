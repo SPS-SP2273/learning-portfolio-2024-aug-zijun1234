{
 "cells": [
  {
   "attachments": {},
   "cell_type": "markdown",
   "id": "123456",
   "metadata": {},
   "source": [
    "<div style=\"text-align:left;font-size:2em\"><span style=\"font-weight:bolder;font-size:1.25em\">SP2273 | Learning Portfolio</span><br><br><span style=\"font-weight:bold;color:darkred\">Functions (Need) Exercises</span></div>"
   ]
  },
  {
   "cell_type": "code",
   "execution_count": 5,
   "id": "9cb86861-bfee-4ba3-a4b7-0078859fa6d9",
   "metadata": {},
   "outputs": [],
   "source": [
    "def greeting(name):\n",
    "    if name == 'Batman':\n",
    "        return 'Hello Batman! So, nice to meet you!'\n",
    "    return f'Hello {name}!'\n",
    "#it still works with the else function.\n",
    "#since else condition is optional for the if function\n",
    "#if if condition is not met, python will skip the if block and execute the instruction under the defined function greeting"
   ]
  },
  {
   "cell_type": "code",
   "execution_count": 5,
   "id": "af546c34-e6dc-4ac4-a2ce-d9f00a4340c3",
   "metadata": {},
   "outputs": [
    {
     "data": {
      "text/plain": [
       "'Please a pair of valid numbers'"
      ]
     },
     "execution_count": 5,
     "metadata": {},
     "output_type": "execute_result"
    }
   ],
   "source": [
    "def calculate_bmi(weight,height):\n",
    "    bmi=weight/(height**2)\n",
    "    if 0<bmi<18.5:\n",
    "        return 'Underweight'\n",
    "    elif 18.5<=bmi<=24.9:\n",
    "        return 'Normal Weight'\n",
    "    elif 25<=bmi<=29.9:\n",
    "        return 'Overweight'\n",
    "    elif bmi>=30:\n",
    "        return'Obese'\n",
    "    elif weight<0 or height<0:\n",
    "        return'Please a pair of valid numbers'\n",
    "calculate_bmi(0,-1.1)"
   ]
  },
  {
   "cell_type": "code",
   "execution_count": 11,
   "id": "e213c18d-f108-45aa-a05a-1aece03cec03",
   "metadata": {},
   "outputs": [
    {
     "name": "stdout",
     "output_type": "stream",
     "text": [
      "Please enter a non-negative number\n"
     ]
    }
   ],
   "source": [
    "def factorial(n):\n",
    "    if n==0:\n",
    "        return 1\n",
    "    elif n>0:\n",
    "        result=1\n",
    "        for i in range(1,n+1):\n",
    "            result*=i\n",
    "        return result\n",
    "    else:\n",
    "         #print(return 'Please enter a non-negative number')\n",
    "        return print('Please enter a non-negative number')\n",
    "        # return is like the feedback of the defined function, while print is more like an instruction of the defined function.\n",
    "factorial(-1)\n",
    "# 1) return is to send the result to the user\n",
    "# 2) print is part of the instructions of the defined function\n",
    "# 3) using return print will not cause any error, while it may be redundant to do so. \n",
    "#the entire print instruction is the feedback from the function\n",
    "# 4) using print return will cause an error to occur.\n"
   ]
  },
  {
   "cell_type": "code",
   "execution_count": null,
   "id": "ac8ff8b2-fdb0-4ea6-8f5b-249b9a901a9b",
   "metadata": {},
   "outputs": [],
   "source": []
  },
  {
   "cell_type": "code",
   "execution_count": null,
   "id": "c1626a68-9b69-4565-9a44-73c4a0b37259",
   "metadata": {},
   "outputs": [],
   "source": []
  }
 ],
 "metadata": {
  "kernelspec": {
   "display_name": "Python 3 (ipykernel)",
   "language": "python",
   "name": "python3"
  },
  "language_info": {
   "codemirror_mode": {
    "name": "ipython",
    "version": 3
   },
   "file_extension": ".py",
   "mimetype": "text/x-python",
   "name": "python",
   "nbconvert_exporter": "python",
   "pygments_lexer": "ipython3",
   "version": "3.12.2"
  },
  "toc": {
   "base_numbering": 1,
   "nav_menu": {},
   "number_sections": true,
   "sideBar": true,
   "skip_h1_title": false,
   "title_cell": "Table of Contents",
   "title_sidebar": "Contents",
   "toc_cell": false,
   "toc_position": {},
   "toc_section_display": true,
   "toc_window_display": false
  },
  "vscode": {
   "interpreter": {
    "hash": "31f2aee4e71d21fbe5cf8b01ff0e069b9275f58929596ceb00d14d90e3e16cd6"
   }
  }
 },
 "nbformat": 4,
 "nbformat_minor": 5
}
