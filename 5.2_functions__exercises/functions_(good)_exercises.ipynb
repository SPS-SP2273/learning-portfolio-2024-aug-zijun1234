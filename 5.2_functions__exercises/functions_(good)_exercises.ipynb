{
 "cells": [
  {
   "attachments": {},
   "cell_type": "markdown",
   "id": "123456",
   "metadata": {},
   "source": [
    "<div style=\"text-align:left;font-size:2em\"><span style=\"font-weight:bolder;font-size:1.25em\">SP2273 | Learning Portfolio</span><br><br><span style=\"font-weight:bold;color:darkred\">Functions (Good) Exercises</span></div>"
   ]
  },
  {
   "cell_type": "code",
   "execution_count": 28,
   "id": "10b54928-87a8-42eb-aac7-26bd0339579c",
   "metadata": {},
   "outputs": [
    {
     "data": {
      "text/plain": [
       "77.0"
      ]
     },
     "execution_count": 28,
     "metadata": {},
     "output_type": "execute_result"
    }
   ],
   "source": [
    "def convert_celsius(temperature_celsius,target_scale):\n",
    "    temperature_celsius=float(temperature_celsius)\n",
    "    if target_scale=='Kelvin':\n",
    "        result=temperature_celsius+273.15\n",
    "        return(result)\n",
    "    else:\n",
    "        temperature= (temperature_celsius*9/5)+32\n",
    "        return(temperature)\n",
    "convert_celsius(25,'')\n",
    "    "
   ]
  },
  {
   "cell_type": "code",
   "execution_count": 27,
   "id": "4f95cc8f-5033-4f66-8079-8ef266a99cd5",
   "metadata": {},
   "outputs": [
    {
     "data": {
      "text/plain": [
       "25.0"
      ]
     },
     "execution_count": 27,
     "metadata": {},
     "output_type": "execute_result"
    }
   ],
   "source": [
    "def convert_fahrenheit(temperature_fahrenheit,target_scale):\n",
    "    temperature_fahrenheit=float(temperature_fahrenheit)\n",
    "    if target_scale=='Kelvin':\n",
    "        result=(temperature_fahrenheit-32)*5/9+273.15\n",
    "        return(result)\n",
    "    else:\n",
    "        temperature=(temperature_fahrenheit-32)*5/9\n",
    "        return(temperature)\n",
    "convert_fahrenheit(77,'')"
   ]
  },
  {
   "cell_type": "code",
   "execution_count": 31,
   "id": "a45ace38-708a-47ef-9799-eff92aabe996",
   "metadata": {},
   "outputs": [
    {
     "data": {
      "text/plain": [
       "268.7055555555555"
      ]
     },
     "execution_count": 31,
     "metadata": {},
     "output_type": "execute_result"
    }
   ],
   "source": [
    "def convert_celsius(temperature_celsius,target_scale):\n",
    "    temperature_celsius=float(temperature_celsius)\n",
    "    if target_scale=='Kelvin':\n",
    "        result=temperature_celsius+273.15\n",
    "        return(result)\n",
    "    else:\n",
    "        temperature= (temperature_celsius*9/5)+32\n",
    "        return(temperature)\n",
    "def convert_fahrenheit(temperature_fahrenheit,target_scale):\n",
    "    temperature_fahrenheit=float(temperature_fahrenheit)\n",
    "    if target_scale=='Kelvin':\n",
    "        result=(temperature_fahrenheit-32)*5/9+273.15\n",
    "        return(result)\n",
    "    else:\n",
    "        temperature=(temperature_fahrenheit-32)*5/9\n",
    "        return(temperature)\n",
    "def convert_kelvin(temperature_kelvin,target_scale):\n",
    "    temperatue_kelvin=float(temperatue_kelvin)\n",
    "    if target_scale=='Fahrenheit':\n",
    "        result=(temperatue_kelvin-273.15)*9/5+32\n",
    "        return(result)\n",
    "    else:\n",
    "        temperature=temperature_kelvin-273.15\n",
    "        return(temperature)\n",
    "def convert_temperature(temperature,source_scale,target_scale):\n",
    "    if source_scale=='Celsius':\n",
    "        return convert_celsius(temperature,target_scale)\n",
    "    elif source_scale=='Fahrenheit':\n",
    "        return convert_fahrenheit(temperature,target_scale)\n",
    "    else:\n",
    "        return convert_kelvin(temperature,target_scale)\n",
    "\n",
    "convert_temperature(24,'Fahrenheit','Kelvin')"
   ]
  }
 ],
 "metadata": {
  "kernelspec": {
   "display_name": "Python 3 (ipykernel)",
   "language": "python",
   "name": "python3"
  },
  "language_info": {
   "codemirror_mode": {
    "name": "ipython",
    "version": 3
   },
   "file_extension": ".py",
   "mimetype": "text/x-python",
   "name": "python",
   "nbconvert_exporter": "python",
   "pygments_lexer": "ipython3",
   "version": "3.12.2"
  },
  "toc": {
   "base_numbering": 1,
   "nav_menu": {},
   "number_sections": true,
   "sideBar": true,
   "skip_h1_title": false,
   "title_cell": "Table of Contents",
   "title_sidebar": "Contents",
   "toc_cell": false,
   "toc_position": {},
   "toc_section_display": true,
   "toc_window_display": false
  },
  "vscode": {
   "interpreter": {
    "hash": "31f2aee4e71d21fbe5cf8b01ff0e069b9275f58929596ceb00d14d90e3e16cd6"
   }
  }
 },
 "nbformat": 4,
 "nbformat_minor": 5
}
