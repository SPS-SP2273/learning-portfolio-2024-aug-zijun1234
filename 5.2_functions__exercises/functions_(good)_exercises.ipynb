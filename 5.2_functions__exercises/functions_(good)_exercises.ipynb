{
 "cells": [
  {
   "attachments": {},
   "cell_type": "markdown",
   "id": "123456",
   "metadata": {},
   "source": [
    "<div style=\"text-align:left;font-size:2em\"><span style=\"font-weight:bolder;font-size:1.25em\">SP2273 | Learning Portfolio</span><br><br><span style=\"font-weight:bold;color:darkred\">Functions (Good) Exercises</span></div>"
   ]
  },
  {
   "cell_type": "code",
   "execution_count": 25,
   "id": "43af81e1-7f72-4baf-aea0-3b9501dea4ad",
   "metadata": {},
   "outputs": [
    {
     "data": {
      "text/plain": [
       "71.6"
      ]
     },
     "execution_count": 25,
     "metadata": {},
     "output_type": "execute_result"
    }
   ],
   "source": [
    "def convert_celsius(temperature_celsius,target_scale='FAHRENHEIT'):\n",
    "    target_scale=target_scale.upper()\n",
    "    if target_scale=='KELVIN':\n",
    "        result=temperature_celsius+273.15\n",
    "        return(result)\n",
    "    elif target_scale=='FAHRENHEIT':\n",
    "        temperature= (temperature_celsius*9/5)+32\n",
    "        return(temperature)\n",
    "    else:\n",
    "        return('Enter a valid target scale')\n",
    "convert_celsius(22)\n",
    "#float() is not necessary here, since python will view the input as a number(float or integer) to carry out the following arithmatic operations,\n",
    "# it doesn't matter it is float or integer for arithmatic operation, and if the input is string an error will occur."
   ]
  },
  {
   "cell_type": "code",
   "execution_count": 29,
   "id": "4f95cc8f-5033-4f66-8079-8ef266a99cd5",
   "metadata": {},
   "outputs": [
    {
     "data": {
      "text/plain": [
       "298.15"
      ]
     },
     "execution_count": 29,
     "metadata": {},
     "output_type": "execute_result"
    }
   ],
   "source": [
    "def convert_fahrenheit(temperature_fahrenheit,target_scale='CELSIUS'):\n",
    "    target_scale=target_scale.upper()\n",
    "    if target_scale=='KELVIN':\n",
    "        result=(temperature_fahrenheit-32)*5/9+273.15\n",
    "        return(result)\n",
    "    elif target_scale=='CELSIUS':\n",
    "        temperature=(temperature_fahrenheit-32)*5/9\n",
    "        return(temperature)\n",
    "    else:\n",
    "         return('Enter a valid target scale')\n",
    "\n",
    "convert_fahrenheit(77,'keLvIn')"
   ]
  },
  {
   "cell_type": "code",
   "execution_count": 37,
   "id": "a45ace38-708a-47ef-9799-eff92aabe996",
   "metadata": {},
   "outputs": [
    {
     "data": {
      "text/plain": [
       "'Enter a valid target scale'"
      ]
     },
     "execution_count": 37,
     "metadata": {},
     "output_type": "execute_result"
    }
   ],
   "source": [
    "def convert_celsius(temperature_celsius,target_scale='FAHRENHEIT'):\n",
    "    target_scale=target_scale.upper()\n",
    "    if target_scale=='KELVIN':\n",
    "        result=temperature_celsius+273.15\n",
    "        return(result)\n",
    "    elif target_scale=='FAHRENHEIT':\n",
    "        temperature= (temperature_celsius*9/5)+32\n",
    "        return(temperature)\n",
    "    else:\n",
    "         return('Enter a valid target scale')\n",
    "def convert_fahrenheit(temperature_fahrenheit,target_scale='CELSIUS'):\n",
    "    target_scale=target_scale.upper()\n",
    "    if target_scale=='KELVIN':\n",
    "        result=(temperature_fahrenheit-32)*5/9+273.15\n",
    "        return(result)\n",
    "    elif target_scale=='CELSIUS':\n",
    "        temperature=(temperature_fahrenheit-32)*5/9\n",
    "        return(temperature)\n",
    "    else:\n",
    "         return('Enter a valid target scale')\n",
    "def convert_kelvin(temperature_kelvin,target_scale='CELSIUS'):\n",
    "    target_scale=target_scale.upper()\n",
    "    if target_scale=='FAHRENHEIT':\n",
    "        result=(temperatue_kelvin-273.15)*9/5+32\n",
    "        return(result)\n",
    "    elif target_scale=='CELSIUS':\n",
    "        temperature=temperature_kelvin-273.15\n",
    "        return(temperature)\n",
    "    else:\n",
    "         return('Enter a valid target scale')\n",
    "def convert_temperature(temperature,source_scale,target_scale):\n",
    "    source_scale=source_scale.upper()\n",
    "    target_scale=target_scale.upper()\n",
    "    if source_scale=='CELSIUS':\n",
    "        return convert_celsius(temperature,target_scale)\n",
    "    elif source_scale=='FAHRENHEIT':\n",
    "        return convert_fahrenheit(temperature,target_scale)\n",
    "    elif source_scale=='KELVIN':\n",
    "        return convert_kelvin(temperature,target_scale)\n",
    "convert_temperature(24,'Fahrenheit','fahrenheit')"
   ]
  },
  {
   "cell_type": "code",
   "execution_count": null,
   "id": "41deaac7-189c-46f5-a798-f40017d2eff9",
   "metadata": {},
   "outputs": [],
   "source": []
  }
 ],
 "metadata": {
  "kernelspec": {
   "display_name": "Python 3 (ipykernel)",
   "language": "python",
   "name": "python3"
  },
  "language_info": {
   "codemirror_mode": {
    "name": "ipython",
    "version": 3
   },
   "file_extension": ".py",
   "mimetype": "text/x-python",
   "name": "python",
   "nbconvert_exporter": "python",
   "pygments_lexer": "ipython3",
   "version": "3.12.2"
  },
  "toc": {
   "base_numbering": 1,
   "nav_menu": {},
   "number_sections": true,
   "sideBar": true,
   "skip_h1_title": false,
   "title_cell": "Table of Contents",
   "title_sidebar": "Contents",
   "toc_cell": false,
   "toc_position": {},
   "toc_section_display": true,
   "toc_window_display": false
  },
  "vscode": {
   "interpreter": {
    "hash": "31f2aee4e71d21fbe5cf8b01ff0e069b9275f58929596ceb00d14d90e3e16cd6"
   }
  }
 },
 "nbformat": 4,
 "nbformat_minor": 5
}
