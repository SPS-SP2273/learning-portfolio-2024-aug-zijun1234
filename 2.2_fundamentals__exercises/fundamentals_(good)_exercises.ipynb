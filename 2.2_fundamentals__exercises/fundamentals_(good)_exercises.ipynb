{
 "cells": [
  {
   "attachments": {},
   "cell_type": "markdown",
   "id": "123456",
   "metadata": {},
   "source": [
    "<div style=\"text-align:left;font-size:2em\"><span style=\"font-weight:bolder;font-size:1.25em\">SP2273 | Learning Portfolio</span><br><br><span style=\"font-weight:bold;color:darkred\">Fundamentals (Good) Exercises</span></div>"
   ]
  },
  {
   "cell_type": "code",
   "execution_count": 32,
   "id": "423d5663-c876-459c-a45d-b1f6d4ceba55",
   "metadata": {},
   "outputs": [
    {
     "name": "stdin",
     "output_type": "stream",
     "text": [
      "what is your name iii\n"
     ]
    },
    {
     "name": "stdout",
     "output_type": "stream",
     "text": [
      "How you doing \u001b[1mIII\u001b[0m\n",
      " \n"
     ]
    }
   ],
   "source": [
    "user_input = input('what is your name')\n",
    "print(f'How you doing \\033[1m{user_input.upper()}\\033[0m\\n ')"
   ]
  },
  {
   "cell_type": "code",
   "execution_count": 19,
   "id": "6243d8ed-1ca1-4681-a677-f26e77225937",
   "metadata": {},
   "outputs": [
    {
     "name": "stdin",
     "output_type": "stream",
     "text": [
      "what is your name gggg\n",
      "how old are you 111\n"
     ]
    },
    {
     "name": "stdout",
     "output_type": "stream",
     "text": [
      "My name is \u001b[1mgggg\u001b[0m and I am \u001b[1m111\u001b[0m years old.\n"
     ]
    }
   ],
   "source": [
    "name_input= input('what is your name')\n",
    "age_input=input('how old are you')\n",
    "print(f'My name is \\033[1m{name_input}\\033[0m and I am \\033[1m{age_input}\\033[0m years old.')"
   ]
  },
  {
   "cell_type": "code",
   "execution_count": 25,
   "id": "5b3551d2-1823-4faa-a74b-b72740b533c3",
   "metadata": {},
   "outputs": [
    {
     "name": "stdout",
     "output_type": "stream",
     "text": [
      "The value of pi to 2 decimal places is: 3.14\n",
      "The value of pi to 3 decimal places is: 3.142\n",
      "The value of pi to 4 decimal places is: 3.1416\n",
      "The value of pi to 2 decimal places is: 3.14\n",
      "The value of pi to 3 decimal places is: 3.142\n",
      "The value of pi to 4 decimal places is: 3.1416\n"
     ]
    }
   ],
   "source": [
    "pi=3.141592653589793\n",
    "print(f'The value of pi to 2 decimal places is: {pi:.2f}')\n",
    "print(f'The value of pi to 3 decimal places is: {pi:.3f}')\n",
    "print(f'The value of pi to 4 decimal places is: {pi:.4f}')\n",
    "# optional\n",
    "import numpy as np\n",
    "print(f'The value of pi to 2 decimal places is: {np.pi:.2f}')\n",
    "print(f'The value of pi to 3 decimal places is: {np.pi:.3f}')\n",
    "print(f'The value of pi to 4 decimal places is: {np.pi:.4f}')"
   ]
  },
  {
   "cell_type": "code",
   "execution_count": 33,
   "id": "9654cbb4-b693-44f5-9dae-d3992dafd762",
   "metadata": {},
   "outputs": [
    {
     "name": "stdout",
     "output_type": "stream",
     "text": [
      "Apple      $ 0.99\n",
      "Banana     $ 0.59\n",
      "Orange     $ 1.29\n",
      "********** $*****\n"
     ]
    }
   ],
   "source": [
    "x=['Apple','Banana','Orange']\n",
    "y=['$ 0.99','$ 0.59','$ 1.29']\n",
    "print(f'{x[0]:<10} {y[0]:>5}\\n{x[1]:<10} {y[1]:>5}\\n{x[2]:<10} {y[2]:>5}')\n",
    "print('********** $*****')"
   ]
  },
  {
   "cell_type": "code",
   "execution_count": 11,
   "id": "52c49f4a-776f-4e66-9601-0b836adbfaf5",
   "metadata": {},
   "outputs": [
    {
     "name": "stdin",
     "output_type": "stream",
     "text": [
      "Enter the student's score www\n"
     ]
    },
    {
     "name": "stdout",
     "output_type": "stream",
     "text": [
      "Please enter a number instead of text\n"
     ]
    }
   ],
   "source": [
    "score_input=input('Enter the student\\'s score')\n",
    "if score_input.isnumeric():\n",
    "   i=int(score_input)\n",
    "   if 70<= i <=100:\n",
    "       print('The student\\'s letter grade is : A')\n",
    "   elif 50<= i <=69:\n",
    "        print('The student\\'s letter grade is :B')\n",
    "   elif 35<= i <=49:\n",
    "        print('The student\\'s letter grade is :C')\n",
    "   elif 0<= i <=34:\n",
    "        print('The student\\'s letter grade is :Fail')\n",
    "   else:\n",
    "        print('Please enter a valid number within range 0 to 100')\n",
    "else:\n",
    "    print('Please enter a number instead of text')"
   ]
  },
  {
   "cell_type": "code",
   "execution_count": 30,
   "id": "5d35905e-2648-450c-8c63-b7673559b713",
   "metadata": {},
   "outputs": [
    {
     "name": "stdout",
     "output_type": "stream",
     "text": [
      "120\n",
      "Invalid input\n"
     ]
    }
   ],
   "source": [
    "def factorial(n):\n",
    "    if n < 0:\n",
    "        return \"Invalid input\"\n",
    "    elif n == 0:\n",
    "        return 1\n",
    "    else:\n",
    "        result = 1\n",
    "        for number in range(1, n+1):\n",
    "            result *= number\n",
    "        return result\n",
    "\n",
    "\n",
    "print(factorial(5))   # Testing, expected output: 120\n",
    "print(factorial(-1))  # Testing, expected output: Invalid input"
   ]
  },
  {
   "cell_type": "code",
   "execution_count": null,
   "id": "488508df-bc88-4d3a-8903-f379f16d5940",
   "metadata": {},
   "outputs": [],
   "source": []
  }
 ],
 "metadata": {
  "kernelspec": {
   "display_name": "Python 3 (ipykernel)",
   "language": "python",
   "name": "python3"
  },
  "language_info": {
   "codemirror_mode": {
    "name": "ipython",
    "version": 3
   },
   "file_extension": ".py",
   "mimetype": "text/x-python",
   "name": "python",
   "nbconvert_exporter": "python",
   "pygments_lexer": "ipython3",
   "version": "3.12.2"
  },
  "toc": {
   "base_numbering": 1,
   "nav_menu": {},
   "number_sections": true,
   "sideBar": true,
   "skip_h1_title": false,
   "title_cell": "Table of Contents",
   "title_sidebar": "Contents",
   "toc_cell": false,
   "toc_position": {},
   "toc_section_display": true,
   "toc_window_display": false
  },
  "vscode": {
   "interpreter": {
    "hash": "31f2aee4e71d21fbe5cf8b01ff0e069b9275f58929596ceb00d14d90e3e16cd6"
   }
  }
 },
 "nbformat": 4,
 "nbformat_minor": 5
}
