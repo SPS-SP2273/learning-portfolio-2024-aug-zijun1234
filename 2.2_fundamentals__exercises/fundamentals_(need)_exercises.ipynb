{
 "cells": [
  {
   "attachments": {},
   "cell_type": "markdown",
   "id": "123456",
   "metadata": {},
   "source": [
    "<div style=\"text-align:left;font-size:2em\"><span style=\"font-weight:bolder;font-size:1.25em\">SP2273 | Learning Portfolio</span><br><br><span style=\"font-weight:bold;color:darkred\">Fundamentals (Need) Exercises</span></div>"
   ]
  },
  {
   "cell_type": "markdown",
   "id": "e4148fa8-d821-48e8-b6cf-2b11ec8b9052",
   "metadata": {},
   "source": [
    "1. list\n",
    "2. dictionary\n",
    "3. functions\n",
    "4. comment\n",
    "5. mathmatical calculation\n",
    "6. import math or numpy functions\n",
    "7. if function\n",
    "8. dot to indicate ownership\n",
    "-----------------------------\n",
    "1. = and ==, =to set things equal,== to check whether things are equal\n",
    "2. to set variables"
   ]
  },
  {
   "cell_type": "code",
   "execution_count": 9,
   "id": "184d4b13-989c-4ca1-bebd-7c6591a579ef",
   "metadata": {},
   "outputs": [
    {
     "name": "stdout",
     "output_type": "stream",
     "text": [
      "3 4 5.0\n"
     ]
    }
   ],
   "source": [
    "x, y = 3, 4\n",
    "import math\n",
    "z =math.sqrt(x**2 + y**2)\n",
    "print(x, y, z)"
   ]
  },
  {
   "cell_type": "markdown",
   "id": "21a31575-c409-46ef-a643-b33f3c649a2e",
   "metadata": {},
   "source": [
    "|#     |Term          |                          Description                                  |\n",
    "|:-----|:------------:|:---------------------------------------------------------------------:|\n",
    "|1     |Function      |A function carries out a specific task|\n",
    "|2     |Arguments     |Arguments are required for certain functions to carry out its tasks.(print(...))|\n",
    "|3     |Comments      |comments is for people to make notation,and python does not interpret comments.|\n",
    "|4     |Indetations   |indetation is empty spaces before a line, python uses indentation to seperate true and false statements.|\n",
    "|5     |Packages      |packages are extensions that can be imported into python, they help to carry out functions that are not in-built in python.|\n",
    "|6     |.             |dot is to indicate ownership|\n",
    "|7     |:             |: is a syntax in python to connect a follow-up statement|\n",
    "|8     |[]            |[] is to create a list in python|\n",
    "|9     |[[],[]]       |[[],[]] is to create a 2D list in python.|\n",
    "|10    |{}            |{} is to create a dictionary|"
   ]
  },
  {
   "cell_type": "code",
   "execution_count": 2,
   "id": "64e2a135-7402-4380-8f06-5e3d56b090e6",
   "metadata": {},
   "outputs": [
    {
     "name": "stdout",
     "output_type": "stream",
     "text": [
      "2.5\n",
      "2\n",
      "1\n"
     ]
    }
   ],
   "source": [
    "x=5/2\n",
    "#/ performs division, so it gives a result of 2.5\n",
    "print(x)\n",
    "x=5//2\n",
    "#// performs floor division, it gives an integer number less or equal than the division result.\n",
    "print(x)\n",
    "x=5%2\n",
    "#% gives the remainder of 5 divided by 2.\n",
    "print(x)"
   ]
  }
 ],
 "metadata": {
  "kernelspec": {
   "display_name": "Python 3 (ipykernel)",
   "language": "python",
   "name": "python3"
  },
  "language_info": {
   "codemirror_mode": {
    "name": "ipython",
    "version": 3
   },
   "file_extension": ".py",
   "mimetype": "text/x-python",
   "name": "python",
   "nbconvert_exporter": "python",
   "pygments_lexer": "ipython3",
   "version": "3.12.2"
  },
  "toc": {
   "base_numbering": 1,
   "nav_menu": {},
   "number_sections": true,
   "sideBar": true,
   "skip_h1_title": false,
   "title_cell": "Table of Contents",
   "title_sidebar": "Contents",
   "toc_cell": false,
   "toc_position": {},
   "toc_section_display": true,
   "toc_window_display": false
  },
  "vscode": {
   "interpreter": {
    "hash": "31f2aee4e71d21fbe5cf8b01ff0e069b9275f58929596ceb00d14d90e3e16cd6"
   }
  }
 },
 "nbformat": 4,
 "nbformat_minor": 5
}
