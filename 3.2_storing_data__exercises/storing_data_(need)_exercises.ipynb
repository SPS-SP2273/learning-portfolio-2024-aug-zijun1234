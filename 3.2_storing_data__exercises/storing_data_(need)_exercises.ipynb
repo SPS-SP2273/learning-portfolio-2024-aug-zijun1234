{
 "cells": [
  {
   "attachments": {},
   "cell_type": "markdown",
   "id": "123456",
   "metadata": {},
   "source": [
    "<div style=\"text-align:left;font-size:2em\"><span style=\"font-weight:bolder;font-size:1.25em\">SP2273 | Learning Portfolio</span><br><br><span style=\"font-weight:bold;color:darkred\">Storing Data (Need) Exercises</span></div>"
   ]
  },
  {
   "cell_type": "markdown",
   "id": "8d1c220d-c32c-4991-b092-85c66af34618",
   "metadata": {},
   "source": [
    "1. They can both store data.\n",
    "   They both support indexing of the stored data.\n",
    "2. Lists can store different types of data, while a numppy arrays can only store the same type of data\n",
    "   When you perform addition on two lists, the elements inside the two lists become elements of the resultant list.\n",
    "   when you perform addition on two numpy arrays of the same length, corresponding elements add up together to be elements in the resultant arrays.\n",
    "3. A dictionary stores data in the form of paired key-value.\n",
    "   "
   ]
  },
  {
   "cell_type": "code",
   "execution_count": 2,
   "id": "fc687f07-2af7-4e87-a9e3-fe7eab41f829",
   "metadata": {},
   "outputs": [
    {
     "name": "stdout",
     "output_type": "stream",
     "text": [
      "a1\n",
      "c3\n",
      "e5\n",
      "g7\n",
      "i9\n"
     ]
    }
   ],
   "source": [
    "py_list = [\"a1\", \"b2\", \"c3\", \"d4\", \"e5\", \"f6\", \"g7\", \"h8\", \"i9\", \"j10\"]\n",
    "print(py_list[0])                    # Prints 'a1'\n",
    "print(py_list[2])                    # Prints 'c3'\n",
    "print(py_list[4])                    # Prints 'e5'\n",
    "print(py_list[6])                    # Prints 'g7'\n",
    "print(py_list[8])                    # Prints 'i9'"
   ]
  },
  {
   "cell_type": "code",
   "execution_count": 4,
   "id": "687cfdcc-e937-44d5-b599-bbd2218b8c56",
   "metadata": {},
   "outputs": [
    {
     "name": "stdout",
     "output_type": "stream",
     "text": [
      "Boron\n",
      "Boron\n"
     ]
    }
   ],
   "source": [
    "elements = ['Hydrogen',\n",
    "            'Helium', 'Lithium',\n",
    "            'Beryllium', 'Boron', 'Carbon',\n",
    "            'Nitrogen', 'Oxygen',\n",
    "            'Fluorine',\n",
    "            'Neon']\n",
    "print(elements[4])\n",
    "print(elements[-6])"
   ]
  },
  {
   "cell_type": "code",
   "execution_count": 11,
   "id": "b0771dfb-1739-41fd-bb60-616e45d88682",
   "metadata": {},
   "outputs": [
    {
     "name": "stdout",
     "output_type": "stream",
     "text": [
      "9\n"
     ]
    }
   ],
   "source": [
    "numbers=[45, 60, 1, 30, 96, 1, 96, 57, 16, 1,\n",
    "        99, 62, 86, 43, 42, 60, 59, 1, 1, 35,\n",
    "        83, 47, 34, 28, 68, 23, 22, 92, 1, 79,\n",
    "        1, 29, 94, 72, 46, 47, 1, 74, 32, 20,\n",
    "        8, 37, 35, 1, 89, 29, 86, 19, 43, 61]                  \n",
    "import numpy as np\n",
    "x=np.array(numbers)\n",
    "print((x==1).sum())\n",
    "#number of 1 is 9"
   ]
  },
  {
   "cell_type": "code",
   "execution_count": 4,
   "id": "6e638736-8f8c-4245-94fd-411474236e6c",
   "metadata": {
    "scrolled": true
   },
   "outputs": [
    {
     "name": "stdout",
     "output_type": "stream",
     "text": [
      "0.9871796626270701\n",
      "[[1.         0.98717966]\n",
      " [0.98717966 1.        ]]\n"
     ]
    }
   ],
   "source": [
    "import numpy as np\n",
    "x_1 = [1, 4, 9, 16, 25, 36, 49, 64, 81, 100]\n",
    "x_2 = [1, 8, 27, 64, 125, 216, 343, 512, 729, 1000]\n",
    "x1=np.array(x_1)\n",
    "x2=np.array(x_2)\n",
    "r=(((x1-x1.mean())*(x2-x2.mean())).sum())/(np.sqrt((((x1-x1.mean())**2).sum())*(((x2-x2.mean())**2).sum())))\n",
    "print(r)\n",
    "print(np.corrcoef(x1,x2))\n",
    "# r-value from calculation has more decimal spaces than the r-value using corrcoef\n",
    "# r-value from calculation is presented as a single value, while the r-value from corrcoef is presented as a 2x2 matrix.\n",
    "# When using np.corrcoef, the result is shown as a diagonal matrix. 1 at [1,1] represent the r value of x1 with respect to itself,\n",
    "#0.98717966 at [1,2] represent the r value of x1 with respect to x2, 1 at [2,1] represent the r value of x2 with respect to itself,\n",
    "#0.98717966 at [2,2] represent the r value of x2 with respect to x1.\n",
    "#1 cannot be the r-value, unless two sets of value are exactly the same. Hence, we should not compare 1 with 0.98717966."
   ]
  },
  {
   "cell_type": "code",
   "execution_count": null,
   "id": "3b07bdca-17bf-42c5-92da-a222dac2402d",
   "metadata": {},
   "outputs": [],
   "source": []
  }
 ],
 "metadata": {
  "kernelspec": {
   "display_name": "Python 3 (ipykernel)",
   "language": "python",
   "name": "python3"
  },
  "language_info": {
   "codemirror_mode": {
    "name": "ipython",
    "version": 3
   },
   "file_extension": ".py",
   "mimetype": "text/x-python",
   "name": "python",
   "nbconvert_exporter": "python",
   "pygments_lexer": "ipython3",
   "version": "3.12.2"
  },
  "toc": {
   "base_numbering": 1,
   "nav_menu": {},
   "number_sections": true,
   "sideBar": true,
   "skip_h1_title": false,
   "title_cell": "Table of Contents",
   "title_sidebar": "Contents",
   "toc_cell": false,
   "toc_position": {},
   "toc_section_display": true,
   "toc_window_display": false
  },
  "vscode": {
   "interpreter": {
    "hash": "31f2aee4e71d21fbe5cf8b01ff0e069b9275f58929596ceb00d14d90e3e16cd6"
   }
  }
 },
 "nbformat": 4,
 "nbformat_minor": 5
}
